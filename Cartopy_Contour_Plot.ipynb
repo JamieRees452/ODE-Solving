{
 "cells": [
  {
   "cell_type": "code",
   "execution_count": null,
   "metadata": {},
   "outputs": [],
   "source": [
    "import matplotlib.pyplot as plt\n",
    "import iris \n",
    "import cartopy\n",
    "import cartopy.crs as ccrs\n",
    "import netCDF4 as nc4"
   ]
  },
  {
   "cell_type": "code",
   "execution_count": null,
   "metadata": {},
   "outputs": [],
   "source": [
    "infile='/data/users/frmk/CMIP6HighResMIP/u-ak306/ony/surface_T/nemo_ak306o_1y_19501201-19511201_grid-T.nc'\n",
    "#infile ='/data/users/jme22rs/CMIP6HighResMIP/u-ak306/ony.nc.file/nemo_ak306o_1y_19501201_19511201_grid-T.nc'   \n",
    "vmin = 0.0\n",
    "vmax = 30.0\n",
    "projection=ccrs.PlateCarree()\n",
    "\n",
    "###----------------------------------------------------------------------------------\n",
    "\n",
    "# Load in the data (using netCDF4)\n",
    "#data=nc4.Dataset(infile)\n",
    "# field = data.variables[varname][0]\n",
    "# lat = data.variables['nav_lat'][:]\n",
    "# lon = data.variables['nav_lon'][:]\n",
    "\n",
    "# Load in the data (using iris)\n",
    "cubes = iris.load(infile) \n",
    "# temperature = cubes[0], for example\n",
    "field = cubes.variables['tos'][0]\n",
    "lat = cubes.variables['nav_lat'][:]\n",
    "lon = cubes.variables['nav_lon'][:]\n",
    "\n",
    "# Set the figure size\n",
    "plt.figure(figsize=(8, 5))\n",
    "\n",
    "# Declare the projection of the plot\n",
    "plt.gcf().add_subplot(111, projection=ccrs.PlateCarree())  \n",
    "\n",
    "# Determine number of pixels in the subplot\n",
    "bbox = plt.gca().get_window_extent().transformed(plt.gcf().dpi_scale_trans.inverted()) # Get axes bounding box in display space\n",
    "nx = bbox.width * plt.gcf().get_dpi()     # Gives width in inches then converts to pixels\n",
    "ny = bbox.height * plt.gcf().get_dpi()    # Gives height in inches then converts to pixels\n",
    "\n",
    "# Reproject the data onto a regular grid (with dimensions set by the number of pixels in the subplot, as above)\n",
    "x_extent = plt.gca().get_extent()[:2] # Return the first two items in the array\n",
    "y_extent = plt.gca().get_extent()[-2:] # Return the last two items in the array\n",
    "x, y = cartopy.img_transform.mesh_projection(projection, nx, ny, x_extents=x_extent, y_extents=y_extent)[:2] # Tell cartopy what coordinate system we are working in \n",
    "field = cartopy.img_transform.regrid(field, lon, lat, ccrs.PlateCarree(), projection, x, y)                  #\n",
    "\n",
    "# Contour the data\n",
    "c = plt.contourf(x, y, field, vmin=vmin, vmax=vmax)   # (lon,lat,data,colorbar minimum,colorbar maximum)\n",
    "\n",
    "# Add coastlines, contour labels and a colour bar\n",
    "plt.gca().coastlines()\n",
    "plt.clabel(c, inline=False, colors='k')  # contour labels where the underlying contour is not removed, and is in black\n",
    "plt.colorbar(c, orientation='horizontal', extend='both')  \n",
    "\n",
    "plt.show()\n",
    "\n"
   ]
  },
  {
   "cell_type": "code",
   "execution_count": null,
   "metadata": {},
   "outputs": [],
   "source": []
  }
 ],
 "metadata": {
  "kernelspec": {
   "display_name": "Python 3",
   "language": "python",
   "name": "python3"
  },
  "language_info": {
   "codemirror_mode": {
    "name": "ipython",
    "version": 3
   },
   "file_extension": ".py",
   "mimetype": "text/x-python",
   "name": "python",
   "nbconvert_exporter": "python",
   "pygments_lexer": "ipython3",
   "version": "3.7.4"
  }
 },
 "nbformat": 4,
 "nbformat_minor": 2
}
